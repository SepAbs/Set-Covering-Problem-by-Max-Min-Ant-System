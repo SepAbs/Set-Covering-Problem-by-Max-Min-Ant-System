{
 "cells": [
  {
   "cell_type": "markdown",
   "id": "bbf07912",
   "metadata": {},
   "source": [
    "# Abbaspour - 610398147 - HW2 - SCP by MMAS\n",
    "# Problem\n",
    "We're going to solve \"Set Covering Problem\" by Max-Min Ant System algorithm.\n",
    "At first some methods of \"numpy\" library is imported; and a function which read each testcase is defined which returns universal set named \"U\" and content sets. Every cost equals t_max as initialization phase.\n",
    "Challenge was to find out universal set and the contents."
   ]
  },
  {
   "cell_type": "code",
   "execution_count": null,
   "id": "741973b3",
   "metadata": {},
   "outputs": [
    {
     "ename": "",
     "evalue": "",
     "output_type": "error",
     "traceback": [
      "\u001b[1;31mRunning cells with 'Python 3.10.0' requires the ipykernel package.\n",
      "\u001b[1;31mRun the following command to install 'ipykernel' into the Python environment. \n",
      "\u001b[1;31mCommand: 'c:/Users/Sepehr/AppData/Local/Programs/Python/Python310/python.exe -m pip install ipykernel -U --user --force-reinstall'"
     ]
    }
   ],
   "source": [
    "from numpy import ones, random, sum, zeros\n",
    "def fileReader(File):\n",
    "    print(f\"Working on {File}\\n\")\n",
    "    Sets = []\n",
    "    with open(File, \"r\") as File:\n",
    "        Contents = File.read().split()\n",
    "        n, m = int(Contents[0]), int(Contents[1])\n",
    "        U, Start = {x for x in range(1, n + 1)}, m + 2\n",
    "        Cost = [int(Contents[Index]) for Index in range (2, Start)]\n",
    "        Sets += [{\"Set\": set(), \"Cost\": -1} for Index in range(0 , m)]\n",
    "        for i in range(1, n + 1):\n",
    "            q = int(Contents[Start])\n",
    "            for z in range(1, q + 1): \n",
    "                Sets[int(Contents[Start + z]) - 1][\"Set\"].add(i)\n",
    "            Start = Start + q + 1\n",
    "\n",
    "        for Index in range(len(Cost)):\n",
    "            Sets[Index][\"Cost\"] = t_max\n",
    "        return U, Sets"
   ]
  },
  {
   "cell_type": "code",
   "execution_count": 3,
   "id": "b18ec120",
   "metadata": {},
   "outputs": [
    {
     "ename": "NameError",
     "evalue": "name 'n' is not defined",
     "output_type": "error",
     "traceback": [
      "\u001b[0;31m---------------------------------------------------------------------------\u001b[0m",
      "\u001b[0;31mNameError\u001b[0m                                 Traceback (most recent call last)",
      "Cell \u001b[0;32mIn [3], line 29\u001b[0m\n\u001b[1;32m     26\u001b[0m     \u001b[38;5;28;01mreturn\u001b[39;00m arr\n\u001b[1;32m     28\u001b[0m n_ants \u001b[38;5;241m=\u001b[39m \u001b[38;5;241m8\u001b[39m\n\u001b[0;32m---> 29\u001b[0m init_p \u001b[38;5;241m=\u001b[39m \u001b[43minit\u001b[49m\u001b[43m(\u001b[49m\u001b[43m)\u001b[49m\n\u001b[1;32m     30\u001b[0m intit_phromone \u001b[38;5;241m=\u001b[39m n_ants \u001b[38;5;241m*\u001b[39m \u001b[38;5;241m1.0\u001b[39m\u001b[38;5;241m/\u001b[39mcost(init_p)\n\u001b[1;32m     31\u001b[0m best_path \u001b[38;5;241m=\u001b[39m init_p\n",
      "Cell \u001b[0;32mIn [3], line 5\u001b[0m, in \u001b[0;36minit\u001b[0;34m()\u001b[0m\n\u001b[1;32m      4\u001b[0m \u001b[38;5;28;01mdef\u001b[39;00m \u001b[38;5;21minit\u001b[39m():\n\u001b[0;32m----> 5\u001b[0m     arr \u001b[38;5;241m=\u001b[39m np\u001b[38;5;241m.\u001b[39marray([\u001b[38;5;241m0\u001b[39m \u001b[38;5;28;01mfor\u001b[39;00m i \u001b[38;5;129;01min\u001b[39;00m \u001b[38;5;28mrange\u001b[39m(\u001b[43mn\u001b[49m)])\n\u001b[1;32m      6\u001b[0m     covered \u001b[38;5;241m=\u001b[39m np\u001b[38;5;241m.\u001b[39mmatmul(arr, element_set)\n\u001b[1;32m      7\u001b[0m     \u001b[38;5;28;01mwhile\u001b[39;00m \u001b[38;5;129;01mnot\u001b[39;00m eop(arr):\n",
      "\u001b[0;31mNameError\u001b[0m: name 'n' is not defined"
     ]
    }
   ],
   "source": [
    "class MMAS:\n",
    "    def __init__(self, numberAnts, numberIterations, Decay, Alpha, Beta):\n",
    "        self.num_ants, self.num_iterations, self.pheromone_decay, self.alpha, self.beta = numberAnts, numberIterations, Decay, Alpha, Beta\n",
    "        \n",
    "    def Solve(self, Problem):\n",
    "        numberElements, numberSets, bestCost, bestSolution = max([Element for Subset in Problem for Element in Subset]), len(Problem), float('inf'), []\n",
    "        Pheromone = ones(numberSets)\n",
    "        for Iteration in range(self.num_iterations):\n",
    "            Solutions, Costs = [], []\n",
    "            for Ant in range(self.num_ants):\n",
    "                uncoveredElements, Solution, totalCost = set(range(1, len(U))), [], 0\n",
    "                while uncoveredElements:\n",
    "                    selectedSet = random.choice(range(numberSets), p = self.Probabilities(Problem, Pheromone, Solution, uncoveredElements))\n",
    "                    Solution.append(selectedSet)\n",
    "                    uncoveredElements -= Problem[selectedSet][\"Set\"]\n",
    "                    totalCost += Problem[selectedSet][\"Cost\"]\n",
    "\n",
    "                Solutions.append(Solution)\n",
    "                Costs.append(totalCost)\n",
    "                if totalCost < bestCost:\n",
    "                    bestSolution, bestCost = [Problem[Set][\"Set\"] for Set in Solution], totalCost\n",
    "                self.updatePheromone(Pheromone, Solution, Problem)\n",
    "                print(bestCost)\n",
    "\n",
    "            Pheromone *= self.pheromone_decay\n",
    "        return bestSolution, bestCost\n",
    "\n",
    "    def Probabilities(self, Problem, Pheromone, Solution, uncoveredElements):\n",
    "        numberSets = len(Problem)\n",
    "        Probabilities = zeros(numberSets)\n",
    "        for Set in range(numberSets):\n",
    "            if Set not in Solution:\n",
    "                Probabilities[Set] = (Pheromone[Set] ** self.alpha) * ((len(Problem[Set][\"Set\"] & uncoveredElements) / len(Problem[Set][\"Set\"] | uncoveredElements)) ** self.beta)\n",
    "\n",
    "        Probabilities /= sum(Probabilities)\n",
    "        return Probabilities\n",
    "    \n",
    "    def updatePheromone(self, Pheromone, Solution, Problem):\n",
    "        bestDelta, Iteration = min([Problem[Set][\"Cost\"] for Set in Solution]), 0\n",
    "        for Set in Solution:\n",
    "            Pheromone[Set] += 1 / bestDelta\n",
    "\n",
    "            # All values of phromones must be in [t_min, t_max]\n",
    "            if Pheromone[Set] > t_max:\n",
    "                Pheromone[Set] = t_max\n",
    "                \n",
    "            elif Pheromone[Set] < t_min:\n",
    "                Pheromone[Set] = t_min\n",
    "\n",
    "            Iteration += 1"
   ]
  },
  {
   "cell_type": "markdown",
   "id": "710caa93",
   "metadata": {},
   "source": [
    "# Test\n",
    "Testing time!\n",
    "Main loop uses each test case and runs algorithm.\n",
    "Decay has been assgined high to lowering evaporation.\n",
    "Main challenge was to fine tune the parameters to reach good enough costs. It's concluded that for smaller valid interval for pheromone values, we'd have less costs.\n",
    "Best recieved cost for file:\\\n",
    "\"scp41.txt\" is 114 with numberAnts = 30, numberIterations = 20, Decay = 0.8, Alpha = 3, Beta = 2, t_min = 1, t_max = 2\\\n",
    "\"scp51.txt\" is 102 with numberAnts = 30, numberIterations = 20, Decay = 0.8, Alpha = 3, Beta = 2, t_min = 1, t_max = 2\\\n",
    "\"scp54.txt\" is 104 with numberAnts = 30, numberIterations = 20, Decay = 0.8, Alpha = 3, Beta = 2, t_min = 1, t_max = 2\\\n",
    "\"scpa2.txt\" is 122 with numberAnts = 300, numberIterations = 20, Decay = 0.9, Alpha = 3, Beta = 3, t_min = 1, t_max = 2\\\n",
    "\"scpb1.txt\" is 76 with numberAnts = 30, numberIterations = 20, Decay = 0.8, Alpha = 3, Beta = 2, t_min = 1, t_max = 2"
   ]
  },
  {
   "cell_type": "code",
   "execution_count": 4,
   "id": "8e8772ae",
   "metadata": {},
   "outputs": [],
   "source": [
    "# Files and boundaries for pheromones interval.\n",
    "Files, t_min, t_max = [\"scp41.txt\", \"scp51.txt\", \"scp54.txt\", \"scpa2.txt\", \"scpb1.txt\"], 1, 5\n",
    "# main()\n",
    "for File in Files:\n",
    "    U, Problem = fileReader(File)\n",
    "    # Low decay causes low evaporation = 0.8\n",
    "    bestSolution, bestCost = MMAS(numberAnts = 30, numberIterations = 200, Decay = 0.85, Alpha = 3, Beta = 2).Solve(Problem)\n",
    "    print(f\"Best solution: {bestSolution}\\n\\nBest cost: {bestCost}\\n\")"
   ]
  }
 ],
 "metadata": {
  "kernelspec": {
   "display_name": "Python 3 (ipykernel)",
   "language": "python",
   "name": "python3"
  },
  "language_info": {
   "codemirror_mode": {
    "name": "ipython",
    "version": 3
   },
   "file_extension": ".py",
   "mimetype": "text/x-python",
   "name": "python",
   "nbconvert_exporter": "python",
   "pygments_lexer": "ipython3",
   "version": "3.10.0"
  }
 },
 "nbformat": 4,
 "nbformat_minor": 5
}
